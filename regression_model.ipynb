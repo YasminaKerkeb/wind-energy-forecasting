{
 "cells": [
  {
   "cell_type": "code",
   "execution_count": 1,
   "metadata": {},
   "outputs": [],
   "source": [
    "import pandas as pd\n",
    "from math import *\n",
    "import matplotlib.pyplot as plt\n",
    "import numpy as np\n",
    "from sklearn.linear_model import LinearRegression, Lasso\n",
    "from sklearn.model_selection import train_test_split, GridSearchCV\n",
    "from sklearn.ensemble import RandomForestRegressor\n",
    "from sklearn.metrics import make_scorer\n",
    "import warnings\n",
    "import os\n",
    "from datetime import datetime\n",
    "from hypopt import GridSearch\n",
    "\n",
    "warnings.filterwarnings(\"ignore\")"
   ]
  },
  {
   "cell_type": "markdown",
   "metadata": {},
   "source": [
    "### Functions"
   ]
  },
  {
   "cell_type": "code",
   "execution_count": 2,
   "metadata": {},
   "outputs": [],
   "source": [
    "def percentage_rmse(y_true, y_pred):\n",
    "    \"\"\"\n",
    "    Return RMSE calculation\n",
    "    Params:\n",
    "    ------\n",
    "    \n",
    "    - y_true: Test vector\n",
    "    - y_pred: Predicted vector\n",
    "    \n",
    "    \"\"\"\n",
    "    return sqrt(np.square(y_true-y_pred).sum(axis=0)/y_true.shape[0])\n",
    "\n",
    "def compute_metrics(y_true,y_pred):\n",
    "    \"\"\"\n",
    "    Return relevant percentage metrics\n",
    "    Params:\n",
    "    ------\n",
    "    \n",
    "    - y_true: Test vector\n",
    "    - y_pred: Predicted vector\n",
    "    \n",
    "    \"\"\"\n",
    "    mse=np.square(y_true-y_pred).sum(axis=0)/y_true.shape[0]\n",
    "    rmse=sqrt(mse)\n",
    "    mae=np.abs(y_true-y_pred).sum(axis=0)/y_true.shape[0]\n",
    "    \n",
    "    return {\"RMSE\":[rmse], \"MSE\":[mse], \"MAE\":[mae]}"
   ]
  },
  {
   "cell_type": "markdown",
   "metadata": {},
   "source": [
    "### Parameters"
   ]
  },
  {
   "cell_type": "code",
   "execution_count": 3,
   "metadata": {},
   "outputs": [],
   "source": [
    "metrics_filename=\"metrics.csv\"\n",
    "models={}\n",
    "metrics_model={}\n",
    "metric_columns=[\"date\",\"model\",\"params\",\"best_train_score\",\"RMSE\",\"MSE\",\"MAE\",\"WithCrossVal\"]"
   ]
  },
  {
   "cell_type": "markdown",
   "metadata": {},
   "source": [
    "## Grid search with Cross validation"
   ]
  },
  {
   "cell_type": "markdown",
   "metadata": {},
   "source": [
    "### Loading Data"
   ]
  },
  {
   "cell_type": "code",
   "execution_count": 4,
   "metadata": {},
   "outputs": [],
   "source": [
    "train_data=pd.read_csv(\"data/train_prep.csv\")\n",
    "test_data=pd.read_csv(\"data/test_prep.csv\")\n",
    "dev_data=pd.read_csv(\"data/dev_prep.csv\")\n",
    "#Check if metrics file exists\n",
    "if os.path.isfile('./'+metrics_filename):\n",
    "    metrics=pd.read_csv(metrics_filename)\n",
    "else:\n",
    "    metrics=pd.DataFrame(columns=metric_columns)"
   ]
  },
  {
   "cell_type": "markdown",
   "metadata": {},
   "source": [
    "### Training model"
   ]
  },
  {
   "cell_type": "code",
   "execution_count": 5,
   "metadata": {},
   "outputs": [],
   "source": [
    "label_column=\"POWER\"\n",
    "columns=list(train_data.columns)\n",
    "columns.remove(label_column)\n",
    "columns.remove('TIMESTAMP')"
   ]
  },
  {
   "cell_type": "code",
   "execution_count": 6,
   "metadata": {},
   "outputs": [],
   "source": [
    "X_train=train_data[columns]\n",
    "y_train=train_data[label_column]\n",
    "\n",
    "X_test=test_data[columns]\n",
    "y_test=test_data[label_column]\n",
    "\n",
    "X_val=dev_data[columns]\n",
    "y_val=dev_data[label_column]"
   ]
  },
  {
   "cell_type": "markdown",
   "metadata": {},
   "source": [
    "### Lasso Model"
   ]
  },
  {
   "cell_type": "code",
   "execution_count": 7,
   "metadata": {},
   "outputs": [
    {
     "name": "stdout",
     "output_type": "stream",
     "text": [
      "                   date  model                                 params  \\\n",
      "0  10/04/2020, 15:02:50  Lasso      {'alpha': 0.01, 'max_iter': 1000}   \n",
      "1  10/04/2020, 15:03:52     RF  {'max_depth': 15, 'n_estimators': 50}   \n",
      "2  10/04/2020, 15:22:18  Lasso      {'alpha': 0.01, 'max_iter': 1000}   \n",
      "\n",
      "   best_train_score      RMSE       MSE       MAE WithCrossVal  \n",
      "0          0.264959  0.295972  0.087599  0.251158          Yes  \n",
      "1          0.129162  0.110359  0.012179  0.077642          Yes  \n",
      "2          0.264959  0.295972  0.087599  0.251158          Yes  \n"
     ]
    }
   ],
   "source": [
    "#Parameters\n",
    "model_name=\"Lasso\"\n",
    "alphas=[1e-2, 1e-1,1]\n",
    "max_iters=[100,1000,10000]\n",
    "K=5\n",
    "grid_values={\"alpha\":alphas,\"max_iter\":max_iters}\n",
    "model=Lasso()\n",
    "\n",
    "#Grid Search Cross validation\n",
    "grid_model = GridSearchCV(model, param_grid = grid_values,scoring = make_scorer(percentage_rmse, greater_is_better=False),cv=K)\n",
    "grid_model.fit(X_train,y_train)\n",
    "\n",
    "#Save model and best score\n",
    "models[model_name]=grid_model\n",
    "metrics_model[model_name]=grid_model.best_score_\n",
    "\n",
    "#Prediction on test set \n",
    "y_pred=grid_model.predict(X_test)\n",
    "\n",
    "# Calculate metrics\n",
    "dict_metrics=compute_metrics(y_test,y_pred)\n",
    "metrics_model[model_name]=dict_metrics\n",
    "dict_metrics[\"date\"]=[datetime.now().strftime(\"%m/%d/%Y, %H:%M:%S\")]\n",
    "dict_metrics[\"model\"]=[\"Lasso\"]\n",
    "dict_metrics[\"params\"]=[grid_model.best_params_]\n",
    "dict_metrics[\"best_train_score\"]=[-grid_model.best_score_]\n",
    "dict_metrics[\"WithCrossVal\"]=[\"Yes\"]\n",
    "lr_metrics=pd.DataFrame.from_dict(dict_metrics)\n",
    "lr_metrics=lr_metrics[metric_columns]\n",
    "metrics=metrics.append(lr_metrics,ignore_index=True)\n",
    "print(metrics.head())"
   ]
  },
  {
   "cell_type": "markdown",
   "metadata": {},
   "source": [
    "### Random Forest"
   ]
  },
  {
   "cell_type": "code",
   "execution_count": 8,
   "metadata": {},
   "outputs": [
    {
     "name": "stdout",
     "output_type": "stream",
     "text": [
      "                   date  model                                 params  \\\n",
      "0  10/04/2020, 15:02:50  Lasso      {'alpha': 0.01, 'max_iter': 1000}   \n",
      "1  10/04/2020, 15:03:52     RF  {'max_depth': 15, 'n_estimators': 50}   \n",
      "2  10/04/2020, 15:22:18  Lasso      {'alpha': 0.01, 'max_iter': 1000}   \n",
      "3  10/04/2020, 15:23:16     RF  {'max_depth': 15, 'n_estimators': 50}   \n",
      "\n",
      "   best_train_score      RMSE       MSE       MAE WithCrossVal  \n",
      "0          0.264959  0.295972  0.087599  0.251158          Yes  \n",
      "1          0.129162  0.110359  0.012179  0.077642          Yes  \n",
      "2          0.264959  0.295972  0.087599  0.251158          Yes  \n",
      "3          0.129162  0.110359  0.012179  0.077642          Yes  \n"
     ]
    }
   ],
   "source": [
    "model_name=\"RF\"\n",
    "max_depths=[5,10,15]\n",
    "num_trees=[10,50]\n",
    "K=5\n",
    "grid_values={\"n_estimators\":num_trees,\"max_depth\":max_depths}\n",
    "\n",
    "model=RandomForestRegressor(random_state=42)\n",
    "grid_model = GridSearchCV(model, param_grid = grid_values,scoring = make_scorer(percentage_rmse, greater_is_better=False),cv=K)\n",
    "grid_model.fit(X_train,y_train)\n",
    "\n",
    "#Save model and best score\n",
    "models[model_name]=grid_model\n",
    "\n",
    "#Prediction on test set \n",
    "y_pred=grid_model.predict(X_test)\n",
    "\n",
    "# Calculate metrics\n",
    "dict_metrics=compute_metrics(y_test,y_pred)\n",
    "#Save metrics with model\n",
    "metrics_model[model_name]=dict_metrics\n",
    "#Add other metrics\n",
    "dict_metrics[\"date\"]=[datetime.now().strftime(\"%m/%d/%Y, %H:%M:%S\")]\n",
    "dict_metrics[\"model\"]=[model_name]\n",
    "dict_metrics[\"params\"]=[grid_model.best_params_]\n",
    "dict_metrics[\"best_train_score\"]=[-grid_model.best_score_]\n",
    "dict_metrics[\"WithCrossVal\"]=[\"Yes\"]\n",
    "rf_metrics=pd.DataFrame.from_dict(dict_metrics)\n",
    "rf_metrics=rf_metrics[metric_columns]\n",
    "metrics=metrics.append(rf_metrics,ignore_index=True)\n",
    "print(metrics.head())"
   ]
  },
  {
   "cell_type": "markdown",
   "metadata": {},
   "source": [
    "### Pick Best model"
   ]
  },
  {
   "cell_type": "code",
   "execution_count": 9,
   "metadata": {},
   "outputs": [
    {
     "name": "stdout",
     "output_type": "stream",
     "text": [
      "best_model:  GridSearchCV(cv=5, error_score='raise-deprecating',\n",
      "       estimator=RandomForestRegressor(bootstrap=True, criterion='mse', max_depth=None,\n",
      "           max_features='auto', max_leaf_nodes=None,\n",
      "           min_impurity_decrease=0.0, min_impurity_split=None,\n",
      "           min_samples_leaf=1, min_samples_split=2,\n",
      "           min_weight_fraction_leaf=0.0, n_estimators='warn', n_jobs=None,\n",
      "           oob_score=False, random_state=42, verbose=0, warm_start=False),\n",
      "       fit_params=None, iid='warn', n_jobs=None,\n",
      "       param_grid={'n_estimators': [10, 50], 'max_depth': [5, 10, 15]},\n",
      "       pre_dispatch='2*n_jobs', refit=True, return_train_score='warn',\n",
      "       scoring=make_scorer(percentage_rmse, greater_is_better=False),\n",
      "       verbose=0)\n"
     ]
    }
   ],
   "source": [
    "score=\"RMSE\"\n",
    "best_model=models[min(metrics_model, key=lambda x:metrics_model[x][score])]\n",
    "print(\"best_model: \", best_model)"
   ]
  },
  {
   "cell_type": "markdown",
   "metadata": {},
   "source": [
    "### Export metrics file"
   ]
  },
  {
   "cell_type": "code",
   "execution_count": 10,
   "metadata": {},
   "outputs": [],
   "source": [
    "metrics.to_csv('metrics.csv',mode='a',header=True,index=False)"
   ]
  }
 ],
 "metadata": {
  "kernelspec": {
   "display_name": "Python 3",
   "language": "python",
   "name": "python3"
  },
  "language_info": {
   "codemirror_mode": {
    "name": "ipython",
    "version": 3
   },
   "file_extension": ".py",
   "mimetype": "text/x-python",
   "name": "python",
   "nbconvert_exporter": "python",
   "pygments_lexer": "ipython3",
   "version": "3.6.10"
  }
 },
 "nbformat": 4,
 "nbformat_minor": 4
}