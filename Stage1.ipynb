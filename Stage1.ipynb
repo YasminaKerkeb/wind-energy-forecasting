{
 "cells": [
  {
   "cell_type": "code",
   "execution_count": 1,
   "metadata": {},
   "outputs": [],
   "source": [
    "import pandas as pd\n",
    "from math import *\n",
    "import numpy as np\n",
    "import matplotlib.pyplot as plt\n",
    "from sklearn import model_selection\n",
    "import numpy as np\n",
    "from sklearn.linear_model import LinearRegression\n",
    "from sklearn.model_selection import train_test_split"
   ]
  },
  {
   "cell_type": "markdown",
   "metadata": {},
   "source": [
    "### Loading the Data"
   ]
  },
  {
   "cell_type": "code",
   "execution_count": 2,
   "metadata": {},
   "outputs": [
    {
     "data": {
      "text/html": [
       "<div>\n",
       "<style scoped>\n",
       "    .dataframe tbody tr th:only-of-type {\n",
       "        vertical-align: middle;\n",
       "    }\n",
       "\n",
       "    .dataframe tbody tr th {\n",
       "        vertical-align: top;\n",
       "    }\n",
       "\n",
       "    .dataframe thead th {\n",
       "        text-align: right;\n",
       "    }\n",
       "</style>\n",
       "<table border=\"1\" class=\"dataframe\">\n",
       "  <thead>\n",
       "    <tr style=\"text-align: right;\">\n",
       "      <th></th>\n",
       "      <th>TIMESTAMP</th>\n",
       "      <th>POWER</th>\n",
       "      <th>U10</th>\n",
       "      <th>V10</th>\n",
       "      <th>U100</th>\n",
       "      <th>V100</th>\n",
       "    </tr>\n",
       "  </thead>\n",
       "  <tbody>\n",
       "    <tr>\n",
       "      <th>0</th>\n",
       "      <td>20150101 01:00</td>\n",
       "      <td>NaN</td>\n",
       "      <td>6.24</td>\n",
       "      <td>3.50</td>\n",
       "      <td>9.74</td>\n",
       "      <td>4.78</td>\n",
       "    </tr>\n",
       "    <tr>\n",
       "      <th>1</th>\n",
       "      <td>20150101 02:00</td>\n",
       "      <td>NaN</td>\n",
       "      <td>5.62</td>\n",
       "      <td>4.06</td>\n",
       "      <td>8.94</td>\n",
       "      <td>5.72</td>\n",
       "    </tr>\n",
       "    <tr>\n",
       "      <th>2</th>\n",
       "      <td>20150101 03:00</td>\n",
       "      <td>0.67</td>\n",
       "      <td>6.00</td>\n",
       "      <td>4.89</td>\n",
       "      <td>9.52</td>\n",
       "      <td>6.99</td>\n",
       "    </tr>\n",
       "    <tr>\n",
       "      <th>3</th>\n",
       "      <td>20150101 04:00</td>\n",
       "      <td>NaN</td>\n",
       "      <td>6.91</td>\n",
       "      <td>4.79</td>\n",
       "      <td>10.63</td>\n",
       "      <td>6.75</td>\n",
       "    </tr>\n",
       "    <tr>\n",
       "      <th>4</th>\n",
       "      <td>20150101 05:00</td>\n",
       "      <td>NaN</td>\n",
       "      <td>6.95</td>\n",
       "      <td>4.83</td>\n",
       "      <td>10.70</td>\n",
       "      <td>6.74</td>\n",
       "    </tr>\n",
       "  </tbody>\n",
       "</table>\n",
       "</div>"
      ],
      "text/plain": [
       "        TIMESTAMP  POWER   U10   V10   U100  V100\n",
       "0  20150101 01:00    NaN  6.24  3.50   9.74  4.78\n",
       "1  20150101 02:00    NaN  5.62  4.06   8.94  5.72\n",
       "2  20150101 03:00   0.67  6.00  4.89   9.52  6.99\n",
       "3  20150101 04:00    NaN  6.91  4.79  10.63  6.75\n",
       "4  20150101 05:00    NaN  6.95  4.83  10.70  6.74"
      ]
     },
     "execution_count": 2,
     "metadata": {},
     "output_type": "execute_result"
    }
   ],
   "source": [
    "Train=pd.read_csv('Data/TrainData1.csv')\n",
    "Input=pd.read_csv('Data/WeatherForecastInput1.csv')\n",
    "Train.head()"
   ]
  },
  {
   "cell_type": "code",
   "execution_count": 3,
   "metadata": {},
   "outputs": [
    {
     "data": {
      "text/html": [
       "<div>\n",
       "<style scoped>\n",
       "    .dataframe tbody tr th:only-of-type {\n",
       "        vertical-align: middle;\n",
       "    }\n",
       "\n",
       "    .dataframe tbody tr th {\n",
       "        vertical-align: top;\n",
       "    }\n",
       "\n",
       "    .dataframe thead th {\n",
       "        text-align: right;\n",
       "    }\n",
       "</style>\n",
       "<table border=\"1\" class=\"dataframe\">\n",
       "  <thead>\n",
       "    <tr style=\"text-align: right;\">\n",
       "      <th></th>\n",
       "      <th>TIMESTAMP</th>\n",
       "      <th>POWER</th>\n",
       "      <th>U10</th>\n",
       "      <th>V10</th>\n",
       "      <th>U100</th>\n",
       "      <th>V100</th>\n",
       "    </tr>\n",
       "  </thead>\n",
       "  <tbody>\n",
       "    <tr>\n",
       "      <th>0</th>\n",
       "      <td>20150101 03:00</td>\n",
       "      <td>0.67</td>\n",
       "      <td>6.00</td>\n",
       "      <td>4.89</td>\n",
       "      <td>9.52</td>\n",
       "      <td>6.99</td>\n",
       "    </tr>\n",
       "    <tr>\n",
       "      <th>1</th>\n",
       "      <td>20150101 06:00</td>\n",
       "      <td>0.94</td>\n",
       "      <td>6.18</td>\n",
       "      <td>5.70</td>\n",
       "      <td>9.73</td>\n",
       "      <td>8.10</td>\n",
       "    </tr>\n",
       "    <tr>\n",
       "      <th>2</th>\n",
       "      <td>20150101 09:00</td>\n",
       "      <td>0.94</td>\n",
       "      <td>7.39</td>\n",
       "      <td>5.66</td>\n",
       "      <td>11.22</td>\n",
       "      <td>8.11</td>\n",
       "    </tr>\n",
       "    <tr>\n",
       "      <th>3</th>\n",
       "      <td>20150101 12:00</td>\n",
       "      <td>0.91</td>\n",
       "      <td>7.84</td>\n",
       "      <td>5.52</td>\n",
       "      <td>12.57</td>\n",
       "      <td>8.26</td>\n",
       "    </tr>\n",
       "    <tr>\n",
       "      <th>4</th>\n",
       "      <td>20150101 15:00</td>\n",
       "      <td>0.97</td>\n",
       "      <td>7.38</td>\n",
       "      <td>7.40</td>\n",
       "      <td>11.32</td>\n",
       "      <td>10.65</td>\n",
       "    </tr>\n",
       "  </tbody>\n",
       "</table>\n",
       "</div>"
      ],
      "text/plain": [
       "        TIMESTAMP  POWER   U10   V10   U100   V100\n",
       "0  20150101 03:00   0.67  6.00  4.89   9.52   6.99\n",
       "1  20150101 06:00   0.94  6.18  5.70   9.73   8.10\n",
       "2  20150101 09:00   0.94  7.39  5.66  11.22   8.11\n",
       "3  20150101 12:00   0.91  7.84  5.52  12.57   8.26\n",
       "4  20150101 15:00   0.97  7.38  7.40  11.32  10.65"
      ]
     },
     "execution_count": 3,
     "metadata": {},
     "output_type": "execute_result"
    }
   ],
   "source": [
    "Train=Train.dropna()\n",
    "Train= Train.reset_index(drop=True)\n",
    "Train.head()"
   ]
  },
  {
   "cell_type": "code",
   "execution_count": 4,
   "metadata": {},
   "outputs": [
    {
     "data": {
      "image/png": "[encoded data removed]",
      "text/plain": [
       "<Figure size 432x288 with 1 Axes>"
      ]
     },
     "metadata": {},
     "output_type": "display_data"
    }
   ],
   "source": [
    "Train.boxplot(column=['U10','V10','U100','V100'])\n",
    "plt.show()"
   ]
  },
  {
   "cell_type": "markdown",
   "metadata": {},
   "source": [
    "### Get Velocity Intensties"
   ]
  },
  {
   "cell_type": "code",
   "execution_count": 5,
   "metadata": {
    "collapsed": true
   },
   "outputs": [],
   "source": [
    "Train['WS10']=[sqrt(Train['U10'][i]**2+Train['V10'][i]**2) for i in range(len(Train['U10']))]\n",
    "Train['WS100']=[sqrt(Train['U100'][i]**2+Train['V100'][i]**2) for i in range(len(Train['U100']))]"
   ]
  },
  {
   "cell_type": "code",
   "execution_count": 6,
   "metadata": {},
   "outputs": [
    {
     "data": {
      "text/html": [
       "<div>\n",
       "<style scoped>\n",
       "    .dataframe tbody tr th:only-of-type {\n",
       "        vertical-align: middle;\n",
       "    }\n",
       "\n",
       "    .dataframe tbody tr th {\n",
       "        vertical-align: top;\n",
       "    }\n",
       "\n",
       "    .dataframe thead th {\n",
       "        text-align: right;\n",
       "    }\n",
       "</style>\n",
       "<table border=\"1\" class=\"dataframe\">\n",
       "  <thead>\n",
       "    <tr style=\"text-align: right;\">\n",
       "      <th></th>\n",
       "      <th>TIMESTAMP</th>\n",
       "      <th>POWER</th>\n",
       "      <th>U10</th>\n",
       "      <th>V10</th>\n",
       "      <th>U100</th>\n",
       "      <th>V100</th>\n",
       "      <th>WS10</th>\n",
       "      <th>WS100</th>\n",
       "    </tr>\n",
       "  </thead>\n",
       "  <tbody>\n",
       "    <tr>\n",
       "      <th>0</th>\n",
       "      <td>20150101 03:00</td>\n",
       "      <td>0.67</td>\n",
       "      <td>6.00</td>\n",
       "      <td>4.89</td>\n",
       "      <td>9.52</td>\n",
       "      <td>6.99</td>\n",
       "      <td>7.740291</td>\n",
       "      <td>11.810610</td>\n",
       "    </tr>\n",
       "    <tr>\n",
       "      <th>1</th>\n",
       "      <td>20150101 06:00</td>\n",
       "      <td>0.94</td>\n",
       "      <td>6.18</td>\n",
       "      <td>5.70</td>\n",
       "      <td>9.73</td>\n",
       "      <td>8.10</td>\n",
       "      <td>8.407283</td>\n",
       "      <td>12.660288</td>\n",
       "    </tr>\n",
       "    <tr>\n",
       "      <th>2</th>\n",
       "      <td>20150101 09:00</td>\n",
       "      <td>0.94</td>\n",
       "      <td>7.39</td>\n",
       "      <td>5.66</td>\n",
       "      <td>11.22</td>\n",
       "      <td>8.11</td>\n",
       "      <td>9.308475</td>\n",
       "      <td>13.844150</td>\n",
       "    </tr>\n",
       "    <tr>\n",
       "      <th>3</th>\n",
       "      <td>20150101 12:00</td>\n",
       "      <td>0.91</td>\n",
       "      <td>7.84</td>\n",
       "      <td>5.52</td>\n",
       "      <td>12.57</td>\n",
       "      <td>8.26</td>\n",
       "      <td>9.588326</td>\n",
       "      <td>15.041027</td>\n",
       "    </tr>\n",
       "    <tr>\n",
       "      <th>4</th>\n",
       "      <td>20150101 15:00</td>\n",
       "      <td>0.97</td>\n",
       "      <td>7.38</td>\n",
       "      <td>7.40</td>\n",
       "      <td>11.32</td>\n",
       "      <td>10.65</td>\n",
       "      <td>10.451048</td>\n",
       "      <td>15.542358</td>\n",
       "    </tr>\n",
       "  </tbody>\n",
       "</table>\n",
       "</div>"
      ],
      "text/plain": [
       "        TIMESTAMP  POWER   U10   V10   U100   V100       WS10      WS100\n",
       "0  20150101 03:00   0.67  6.00  4.89   9.52   6.99   7.740291  11.810610\n",
       "1  20150101 06:00   0.94  6.18  5.70   9.73   8.10   8.407283  12.660288\n",
       "2  20150101 09:00   0.94  7.39  5.66  11.22   8.11   9.308475  13.844150\n",
       "3  20150101 12:00   0.91  7.84  5.52  12.57   8.26   9.588326  15.041027\n",
       "4  20150101 15:00   0.97  7.38  7.40  11.32  10.65  10.451048  15.542358"
      ]
     },
     "execution_count": 6,
     "metadata": {},
     "output_type": "execute_result"
    }
   ],
   "source": [
    "Train.head()"
   ]
  },
  {
   "cell_type": "code",
   "execution_count": 7,
   "metadata": {},
   "outputs": [
    {
     "data": {
      "text/html": [
       "<div>\n",
       "<style scoped>\n",
       "    .dataframe tbody tr th:only-of-type {\n",
       "        vertical-align: middle;\n",
       "    }\n",
       "\n",
       "    .dataframe tbody tr th {\n",
       "        vertical-align: top;\n",
       "    }\n",
       "\n",
       "    .dataframe thead th {\n",
       "        text-align: right;\n",
       "    }\n",
       "</style>\n",
       "<table border=\"1\" class=\"dataframe\">\n",
       "  <thead>\n",
       "    <tr style=\"text-align: right;\">\n",
       "      <th></th>\n",
       "      <th>TIMESTAMP</th>\n",
       "      <th>POWER</th>\n",
       "      <th>U10</th>\n",
       "      <th>V10</th>\n",
       "      <th>U100</th>\n",
       "      <th>V100</th>\n",
       "      <th>WS10</th>\n",
       "      <th>WS100</th>\n",
       "      <th>WS</th>\n",
       "      <th>WS1</th>\n",
       "    </tr>\n",
       "  </thead>\n",
       "  <tbody>\n",
       "    <tr>\n",
       "      <th>0</th>\n",
       "      <td>20150101 03:00</td>\n",
       "      <td>0.67</td>\n",
       "      <td>6.00</td>\n",
       "      <td>4.89</td>\n",
       "      <td>9.52</td>\n",
       "      <td>6.99</td>\n",
       "      <td>7.740291</td>\n",
       "      <td>11.810610</td>\n",
       "      <td>10.453837</td>\n",
       "      <td>11.235335</td>\n",
       "    </tr>\n",
       "    <tr>\n",
       "      <th>1</th>\n",
       "      <td>20150101 06:00</td>\n",
       "      <td>0.94</td>\n",
       "      <td>6.18</td>\n",
       "      <td>5.70</td>\n",
       "      <td>9.73</td>\n",
       "      <td>8.10</td>\n",
       "      <td>8.407283</td>\n",
       "      <td>12.660288</td>\n",
       "      <td>11.242620</td>\n",
       "      <td>12.043628</td>\n",
       "    </tr>\n",
       "    <tr>\n",
       "      <th>2</th>\n",
       "      <td>20150101 09:00</td>\n",
       "      <td>0.94</td>\n",
       "      <td>7.39</td>\n",
       "      <td>5.66</td>\n",
       "      <td>11.22</td>\n",
       "      <td>8.11</td>\n",
       "      <td>9.308475</td>\n",
       "      <td>13.844150</td>\n",
       "      <td>12.332258</td>\n",
       "      <td>13.169826</td>\n",
       "    </tr>\n",
       "    <tr>\n",
       "      <th>3</th>\n",
       "      <td>20150101 12:00</td>\n",
       "      <td>0.91</td>\n",
       "      <td>7.84</td>\n",
       "      <td>5.52</td>\n",
       "      <td>12.57</td>\n",
       "      <td>8.26</td>\n",
       "      <td>9.588326</td>\n",
       "      <td>15.041027</td>\n",
       "      <td>13.223460</td>\n",
       "      <td>14.308405</td>\n",
       "    </tr>\n",
       "    <tr>\n",
       "      <th>4</th>\n",
       "      <td>20150101 15:00</td>\n",
       "      <td>0.97</td>\n",
       "      <td>7.38</td>\n",
       "      <td>7.40</td>\n",
       "      <td>11.32</td>\n",
       "      <td>10.65</td>\n",
       "      <td>10.451048</td>\n",
       "      <td>15.542358</td>\n",
       "      <td>13.845255</td>\n",
       "      <td>14.785317</td>\n",
       "    </tr>\n",
       "  </tbody>\n",
       "</table>\n",
       "</div>"
      ],
      "text/plain": [
       "        TIMESTAMP  POWER   U10   V10   U100   V100       WS10      WS100  \\\n",
       "0  20150101 03:00   0.67  6.00  4.89   9.52   6.99   7.740291  11.810610   \n",
       "1  20150101 06:00   0.94  6.18  5.70   9.73   8.10   8.407283  12.660288   \n",
       "2  20150101 09:00   0.94  7.39  5.66  11.22   8.11   9.308475  13.844150   \n",
       "3  20150101 12:00   0.91  7.84  5.52  12.57   8.26   9.588326  15.041027   \n",
       "4  20150101 15:00   0.97  7.38  7.40  11.32  10.65  10.451048  15.542358   \n",
       "\n",
       "          WS        WS1  \n",
       "0  10.453837  11.235335  \n",
       "1  11.242620  12.043628  \n",
       "2  12.332258  13.169826  \n",
       "3  13.223460  14.308405  \n",
       "4  13.845255  14.785317  "
      ]
     },
     "execution_count": 7,
     "metadata": {},
     "output_type": "execute_result"
    }
   ],
   "source": [
    "#Use linear interpolation to get velocity at 70 m\n",
    "Train['WS']=[np.interp(70, [10,100], [Train['WS10'][i],Train['WS100'][i]]) for i in range(len(Train['WS10']))]\n",
    "Train['WS1']=[pow((70/100),(0.14))*Train['WS100'][i] for i in range(len(Train['WS100']))]\n",
    "Train.head()\n"
   ]
  },
  {
   "cell_type": "code",
   "execution_count": 8,
   "metadata": {},
   "outputs": [
    {
     "data": {
      "text/html": [
       "<div>\n",
       "<style scoped>\n",
       "    .dataframe tbody tr th:only-of-type {\n",
       "        vertical-align: middle;\n",
       "    }\n",
       "\n",
       "    .dataframe tbody tr th {\n",
       "        vertical-align: top;\n",
       "    }\n",
       "\n",
       "    .dataframe thead th {\n",
       "        text-align: right;\n",
       "    }\n",
       "</style>\n",
       "<table border=\"1\" class=\"dataframe\">\n",
       "  <thead>\n",
       "    <tr style=\"text-align: right;\">\n",
       "      <th></th>\n",
       "      <th>TIMESTAMP</th>\n",
       "      <th>POWER</th>\n",
       "      <th>U10</th>\n",
       "      <th>V10</th>\n",
       "      <th>U100</th>\n",
       "      <th>V100</th>\n",
       "      <th>WS10</th>\n",
       "      <th>WS100</th>\n",
       "      <th>WS</th>\n",
       "      <th>WS1</th>\n",
       "    </tr>\n",
       "  </thead>\n",
       "  <tbody>\n",
       "    <tr>\n",
       "      <th>0</th>\n",
       "      <td>20150101 03:00</td>\n",
       "      <td>0.67</td>\n",
       "      <td>6.00</td>\n",
       "      <td>4.89</td>\n",
       "      <td>9.52</td>\n",
       "      <td>6.99</td>\n",
       "      <td>7.740291</td>\n",
       "      <td>11.810610</td>\n",
       "      <td>10.453837</td>\n",
       "      <td>11.235335</td>\n",
       "    </tr>\n",
       "    <tr>\n",
       "      <th>1</th>\n",
       "      <td>20150101 06:00</td>\n",
       "      <td>0.94</td>\n",
       "      <td>6.18</td>\n",
       "      <td>5.70</td>\n",
       "      <td>9.73</td>\n",
       "      <td>8.10</td>\n",
       "      <td>8.407283</td>\n",
       "      <td>12.660288</td>\n",
       "      <td>11.242620</td>\n",
       "      <td>12.043628</td>\n",
       "    </tr>\n",
       "    <tr>\n",
       "      <th>2</th>\n",
       "      <td>20150101 09:00</td>\n",
       "      <td>0.94</td>\n",
       "      <td>7.39</td>\n",
       "      <td>5.66</td>\n",
       "      <td>11.22</td>\n",
       "      <td>8.11</td>\n",
       "      <td>9.308475</td>\n",
       "      <td>13.844150</td>\n",
       "      <td>12.332258</td>\n",
       "      <td>13.169826</td>\n",
       "    </tr>\n",
       "    <tr>\n",
       "      <th>3</th>\n",
       "      <td>20150101 12:00</td>\n",
       "      <td>0.91</td>\n",
       "      <td>7.84</td>\n",
       "      <td>5.52</td>\n",
       "      <td>12.57</td>\n",
       "      <td>8.26</td>\n",
       "      <td>9.588326</td>\n",
       "      <td>15.041027</td>\n",
       "      <td>13.223460</td>\n",
       "      <td>14.308405</td>\n",
       "    </tr>\n",
       "    <tr>\n",
       "      <th>4</th>\n",
       "      <td>20150101 15:00</td>\n",
       "      <td>0.97</td>\n",
       "      <td>7.38</td>\n",
       "      <td>7.40</td>\n",
       "      <td>11.32</td>\n",
       "      <td>10.65</td>\n",
       "      <td>10.451048</td>\n",
       "      <td>15.542358</td>\n",
       "      <td>13.845255</td>\n",
       "      <td>14.785317</td>\n",
       "    </tr>\n",
       "  </tbody>\n",
       "</table>\n",
       "</div>"
      ],
      "text/plain": [
       "        TIMESTAMP  POWER   U10   V10   U100   V100       WS10      WS100  \\\n",
       "0  20150101 03:00   0.67  6.00  4.89   9.52   6.99   7.740291  11.810610   \n",
       "1  20150101 06:00   0.94  6.18  5.70   9.73   8.10   8.407283  12.660288   \n",
       "2  20150101 09:00   0.94  7.39  5.66  11.22   8.11   9.308475  13.844150   \n",
       "3  20150101 12:00   0.91  7.84  5.52  12.57   8.26   9.588326  15.041027   \n",
       "4  20150101 15:00   0.97  7.38  7.40  11.32  10.65  10.451048  15.542358   \n",
       "\n",
       "          WS        WS1  \n",
       "0  10.453837  11.235335  \n",
       "1  11.242620  12.043628  \n",
       "2  12.332258  13.169826  \n",
       "3  13.223460  14.308405  \n",
       "4  13.845255  14.785317  "
      ]
     },
     "execution_count": 8,
     "metadata": {},
     "output_type": "execute_result"
    }
   ],
   "source": [
    "Train.head()"
   ]
  },
  {
   "cell_type": "code",
   "execution_count": 9,
   "metadata": {
    "collapsed": true
   },
   "outputs": [],
   "source": [
    "X=Train['WS']\n",
    "X=np.array(X).reshape(-1,1)\n",
    "y=Train['POWER']\n",
    "X_train, X_test, y_train, y_test = train_test_split(X, y, test_size=0.3, random_state=40)\n",
    "reg = LinearRegression().fit(X_train, y_train)\n",
    "y_est=reg.predict(X_test)\n",
    "\n"
   ]
  },
  {
   "cell_type": "code",
   "execution_count": 10,
   "metadata": {},
   "outputs": [
    {
     "name": "stderr",
     "output_type": "stream",
     "text": [
      "/Users/mac/anaconda/lib/python3.6/site-packages/matplotlib/legend.py:798: UserWarning: Legend does not support 'T' instances.\n",
      "A proxy artist may be used instead.\n",
      "See: http://matplotlib.org/users/legend_guide.html#creating-artists-specifically-for-adding-to-the-legend-aka-proxy-artists\n",
      "  \"aka-proxy-artists\".format(orig_handle)\n",
      "/Users/mac/anaconda/lib/python3.6/site-packages/matplotlib/legend.py:798: UserWarning: Legend does not support 'r' instances.\n",
      "A proxy artist may be used instead.\n",
      "See: http://matplotlib.org/users/legend_guide.html#creating-artists-specifically-for-adding-to-the-legend-aka-proxy-artists\n",
      "  \"aka-proxy-artists\".format(orig_handle)\n",
      "/Users/mac/anaconda/lib/python3.6/site-packages/matplotlib/legend.py:798: UserWarning: Legend does not support 'u' instances.\n",
      "A proxy artist may be used instead.\n",
      "See: http://matplotlib.org/users/legend_guide.html#creating-artists-specifically-for-adding-to-the-legend-aka-proxy-artists\n",
      "  \"aka-proxy-artists\".format(orig_handle)\n"
     ]
    },
    {
     "data": {
      "image/png": "[encoded data removed]",
      "text/plain": [
       "<Figure size 432x288 with 1 Axes>"
      ]
     },
     "metadata": {},
     "output_type": "display_data"
    },
    {
     "name": "stdout",
     "output_type": "stream",
     "text": [
      "Error vector:  [0.15210069561032627, 0.15735956580768878, 0.15802135384879232, 0.15450471953313596, 0.14966911059760066, 0.14804692839174075, 0.15396904671478953, 0.1537269660397678, 0.15189209284375055, 0.153051539710807]\n",
      "Mean Error 0.15323420190984\n"
     ]
    }
   ],
   "source": [
    "# Train Linear regression using K-Fold cross validation\n",
    "K = 10\n",
    "CV = model_selection.KFold(K, shuffle=True)\n",
    "X=Train['WS']\n",
    "\n",
    "y=Train['POWER']\n",
    "k=0\n",
    "Error_test=[0]*K\n",
    "\n",
    "for train_index, test_index in CV.split(X,y):\n",
    "    \n",
    "    # extract training and test set for current CV fold\n",
    "    X_train = X.iloc[train_index].reset_index(drop=True)\n",
    "    y_train = y.iloc[train_index].reset_index(drop=True)\n",
    "    X_test = X.iloc[test_index].reset_index(drop=True)\n",
    "    y_test = y.iloc[test_index].reset_index(drop=True)\n",
    "    train_index1=np.array(X_train[(X_train<12) & (X_train>4)].index)\n",
    "    test_index1=np.array(X_test[(X_test<12) & (X_test>4)].index)\n",
    "    test_index12=np.array(X_test[X_test>12].index)\n",
    "    #Estimate the input\n",
    "    \n",
    "    reg = LinearRegression().fit(np.array(X_train.iloc[train_index1]).reshape(-1,1), y_train.iloc[train_index1])\n",
    "    y_est=np.zeros(len(y_test))\n",
    "    y_est[test_index1]=reg.predict(np.array(X_test.iloc[test_index1]).reshape(-1,1))\n",
    "    y_est[test_index12]=np.ones(len(test_index12))\n",
    "\n",
    "    # Compute mean squared error \n",
    "  \n",
    "    Error_test[k] = sqrt(np.square(y_test-y_est).sum(axis=0)/y_test.shape[0])\n",
    "    k+=1\n",
    "\n",
    "plt.plot(range(len(y_test[0:23])),y_test[0:23])\n",
    "plt.plot(range(len(y_test[0:23])),y_est[0:23])\n",
    "plt.legend('True','Est')\n",
    "plt.show()\n",
    "#Error_test\n",
    "#y_est.shape[0]\n",
    "print(\"Error vector: \",Error_test)\n",
    "print(\"Mean Error\",np.mean(Error_test) )\n",
    "#plt.figure\n",
    "#plt.scatter(X_test,y_test, s=80, facecolors='none', edgecolors='b')\n",
    "#plt.scatter(X_test,y_est, s=80, facecolors='none', edgecolors='r')\n",
    "#plt.legend('True','Est')\n",
    "#plt.show()\n"
   ]
  },
  {
   "cell_type": "code",
   "execution_count": 11,
   "metadata": {},
   "outputs": [
    {
     "name": "stderr",
     "output_type": "stream",
     "text": [
      "/Users/mac/anaconda/lib/python3.6/site-packages/matplotlib/legend.py:798: UserWarning: Legend does not support 'T' instances.\n",
      "A proxy artist may be used instead.\n",
      "See: http://matplotlib.org/users/legend_guide.html#creating-artists-specifically-for-adding-to-the-legend-aka-proxy-artists\n",
      "  \"aka-proxy-artists\".format(orig_handle)\n",
      "/Users/mac/anaconda/lib/python3.6/site-packages/matplotlib/legend.py:798: UserWarning: Legend does not support 'r' instances.\n",
      "A proxy artist may be used instead.\n",
      "See: http://matplotlib.org/users/legend_guide.html#creating-artists-specifically-for-adding-to-the-legend-aka-proxy-artists\n",
      "  \"aka-proxy-artists\".format(orig_handle)\n",
      "/Users/mac/anaconda/lib/python3.6/site-packages/matplotlib/legend.py:798: UserWarning: Legend does not support 'u' instances.\n",
      "A proxy artist may be used instead.\n",
      "See: http://matplotlib.org/users/legend_guide.html#creating-artists-specifically-for-adding-to-the-legend-aka-proxy-artists\n",
      "  \"aka-proxy-artists\".format(orig_handle)\n"
     ]
    },
    {
     "data": {
      "image/png": "[encoded data removed]",
      "text/plain": [
       "<Figure size 432x288 with 1 Axes>"
      ]
     },
     "metadata": {},
     "output_type": "display_data"
    }
   ],
   "source": [
    "plt.figure\n",
    "plt.scatter(X_test,y_test, s=80, facecolors='none', edgecolors='navy')\n",
    "plt.scatter(X_test,y_est, s=80, facecolors='none', edgecolors='orange')\n",
    "plt.legend('True','Est')\n",
    "plt.show()\n",
    "\n"
   ]
  },
  {
   "cell_type": "code",
   "execution_count": 12,
   "metadata": {},
   "outputs": [
    {
     "data": {
      "text/html": [
       "<div>\n",
       "<style scoped>\n",
       "    .dataframe tbody tr th:only-of-type {\n",
       "        vertical-align: middle;\n",
       "    }\n",
       "\n",
       "    .dataframe tbody tr th {\n",
       "        vertical-align: top;\n",
       "    }\n",
       "\n",
       "    .dataframe thead th {\n",
       "        text-align: right;\n",
       "    }\n",
       "</style>\n",
       "<table border=\"1\" class=\"dataframe\">\n",
       "  <thead>\n",
       "    <tr style=\"text-align: right;\">\n",
       "      <th></th>\n",
       "      <th>TIMESTAMP</th>\n",
       "      <th>U10</th>\n",
       "      <th>V10</th>\n",
       "      <th>U100</th>\n",
       "      <th>V100</th>\n",
       "      <th>WS10</th>\n",
       "      <th>WS100</th>\n",
       "    </tr>\n",
       "  </thead>\n",
       "  <tbody>\n",
       "    <tr>\n",
       "      <th>0</th>\n",
       "      <td>20180101 01:00</td>\n",
       "      <td>3.84219</td>\n",
       "      <td>6.22313</td>\n",
       "      <td>6.16049</td>\n",
       "      <td>8.55337</td>\n",
       "      <td>7.313670</td>\n",
       "      <td>10.540957</td>\n",
       "    </tr>\n",
       "    <tr>\n",
       "      <th>1</th>\n",
       "      <td>20180101 02:00</td>\n",
       "      <td>3.89048</td>\n",
       "      <td>7.04302</td>\n",
       "      <td>6.15886</td>\n",
       "      <td>9.52636</td>\n",
       "      <td>8.046115</td>\n",
       "      <td>11.343857</td>\n",
       "    </tr>\n",
       "    <tr>\n",
       "      <th>2</th>\n",
       "      <td>20180101 03:00</td>\n",
       "      <td>7.40522</td>\n",
       "      <td>6.96923</td>\n",
       "      <td>10.51820</td>\n",
       "      <td>9.21413</td>\n",
       "      <td>10.168945</td>\n",
       "      <td>13.983302</td>\n",
       "    </tr>\n",
       "    <tr>\n",
       "      <th>3</th>\n",
       "      <td>20180101 04:00</td>\n",
       "      <td>5.80698</td>\n",
       "      <td>7.30140</td>\n",
       "      <td>8.36173</td>\n",
       "      <td>9.81111</td>\n",
       "      <td>9.329065</td>\n",
       "      <td>12.890943</td>\n",
       "    </tr>\n",
       "    <tr>\n",
       "      <th>4</th>\n",
       "      <td>20180101 05:00</td>\n",
       "      <td>5.47721</td>\n",
       "      <td>7.32334</td>\n",
       "      <td>7.94547</td>\n",
       "      <td>9.75995</td>\n",
       "      <td>9.145006</td>\n",
       "      <td>12.585194</td>\n",
       "    </tr>\n",
       "  </tbody>\n",
       "</table>\n",
       "</div>"
      ],
      "text/plain": [
       "        TIMESTAMP      U10      V10      U100     V100       WS10      WS100\n",
       "0  20180101 01:00  3.84219  6.22313   6.16049  8.55337   7.313670  10.540957\n",
       "1  20180101 02:00  3.89048  7.04302   6.15886  9.52636   8.046115  11.343857\n",
       "2  20180101 03:00  7.40522  6.96923  10.51820  9.21413  10.168945  13.983302\n",
       "3  20180101 04:00  5.80698  7.30140   8.36173  9.81111   9.329065  12.890943\n",
       "4  20180101 05:00  5.47721  7.32334   7.94547  9.75995   9.145006  12.585194"
      ]
     },
     "execution_count": 12,
     "metadata": {},
     "output_type": "execute_result"
    }
   ],
   "source": [
    "X_inp=Input[['U10','V10','U100','V100']]\n",
    "Input['WS10']=[sqrt(Input['U10'][i]**2+Input['V10'][i]**2) for i in range(len(Input['U10']))]\n",
    "Input['WS100']=[sqrt(Input['U100'][i]**2+Input['V100'][i]**2) for i in range(len(Input['U100']))]\n",
    "#Input['Mean_WS']=Input['WS10']+Input['WS100']/2\n",
    "\n",
    "Input.head()"
   ]
  },
  {
   "cell_type": "code",
   "execution_count": null,
   "metadata": {},
   "outputs": [],
   "source": [
    "Input['WS']=[np.interp(70, [10,100], [Input['WS10'][i],Input['WS100'][i]]) for i in range(len(Input['WS10']))]\n",
    "X_inp=Input[['U10','U100','V10','V100','WS']].loc[(Input['WS']< 12) & (Input['WS']> 4)]\n",
    "Input.loc[(Input['WS']< 12) & (Input['WS']> 4), 'FORECAST'] = reg.predict(X_inp)\n",
    "Input.loc[Input['WS']< 4, 'FORECAST'] = 0\n",
    "Input.loc[Input['WS']> 12, 'FORECAST'] = 1"
   ]
  },
  {
   "cell_type": "markdown",
   "metadata": {},
   "source": [
    "### Compare Actual to Predicted"
   ]
  },
  {
   "cell_type": "code",
   "execution_count": 13,
   "metadata": {},
   "outputs": [
    {
     "data": {
      "image/png": "[encoded data removed]",
      "text/plain": [
       "<Figure size 432x288 with 1 Axes>"
      ]
     },
     "metadata": {},
     "output_type": "display_data"
    }
   ],
   "source": [
    "\n",
    "Sol1=pd.read_csv('Solution1.csv')\n",
    "Forecast=pd.read_csv('31761-Nuclearwouldbeeasier-stage1.csv')\n",
    "#plt.style.use('classic')\n",
    "fig, ax = plt.subplots()\n",
    "ax.plot(range(len(Forecast['FORECAST'])),Forecast['FORECAST'],'o-',label='Predicted')\n",
    "ax.plot(range(len(Sol1['POWER'])),Sol1['POWER'],'o-',label='Measured')\n",
    "leg = ax.legend()\n",
    "ax.legend(loc='upper right', frameon=False)\n",
    "#plt.legend('PREDICTED','MEASURED')\n",
    "plt.xlabel('Lead time')\n",
    "plt.ylabel('Power per unit')\n",
    "plt.ylim([0.5,1.1])\n",
    "#plt.legend('PREDICTED','MEASURED')\n",
    "plt.savefig('FORE-MEAS.eps',format='eps',dpi=1000)\n",
    "plt.show()"
   ]
  },
  {
   "cell_type": "code",
   "execution_count": 14,
   "metadata": {},
   "outputs": [
    {
     "data": {
      "image/png": "[encoded data removed]",
      "text/plain": [
       "<Figure size 432x288 with 1 Axes>"
      ]
     },
     "metadata": {},
     "output_type": "display_data"
    }
   ],
   "source": [
    "Sol=pd.read_csv('Solution1.csv')\n",
    "Errors=Sol1['POWER']-Forecast['FORECAST']\n",
    "plt.hist(Errors)\n",
    "plt.xlabel('Error')\n",
    "plt.show()"
   ]
  },
  {
   "cell_type": "code",
   "execution_count": null,
   "metadata": {
    "collapsed": true
   },
   "outputs": [],
   "source": []
  },
  {
   "cell_type": "code",
   "execution_count": null,
   "metadata": {
    "collapsed": true
   },
   "outputs": [],
   "source": []
  }
 ],
 "metadata": {
  "kernelspec": {
   "display_name": "Python 3",
   "language": "python",
   "name": "python3"
  },
  "language_info": {
   "codemirror_mode": {
    "name": "ipython",
    "version": 3
   },
   "file_extension": ".py",
   "mimetype": "text/x-python",
   "name": "python",
   "nbconvert_exporter": "python",
   "pygments_lexer": "ipython3",
   "version": "3.6.8"
  }
 },
 "nbformat": 4,
 "nbformat_minor": 2
}
